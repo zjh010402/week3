{
 "cells": [
  {
   "cell_type": "code",
   "execution_count": 8,
   "id": "d82d1750",
   "metadata": {},
   "outputs": [
    {
     "name": "stdout",
     "output_type": "stream",
     "text": [
      " * Serving Flask app '__main__'\n",
      " * Debug mode: off\n"
     ]
    },
    {
     "name": "stderr",
     "output_type": "stream",
     "text": [
      "WARNING: This is a development server. Do not use it in a production deployment. Use a production WSGI server instead.\n",
      " * Running on http://127.0.0.1:7171\n",
      "Press CTRL+C to quit\n",
      "127.0.0.1 - - [22/Mar/2024 20:12:18] \"GET / HTTP/1.1\" 200 -\n",
      "[2024-03-22 20:12:22,720] ERROR in app: Exception on /main [POST]\n",
      "Traceback (most recent call last):\n",
      "  File \"C:\\Users\\henry\\anaconda3\\Lib\\site-packages\\flask\\app.py\", line 2525, in wsgi_app\n",
      "    response = self.full_dispatch_request()\n",
      "               ^^^^^^^^^^^^^^^^^^^^^^^^^^^^\n",
      "  File \"C:\\Users\\henry\\anaconda3\\Lib\\site-packages\\flask\\app.py\", line 1822, in full_dispatch_request\n",
      "    rv = self.handle_user_exception(e)\n",
      "         ^^^^^^^^^^^^^^^^^^^^^^^^^^^^^\n",
      "  File \"C:\\Users\\henry\\anaconda3\\Lib\\site-packages\\flask\\app.py\", line 1820, in full_dispatch_request\n",
      "    rv = self.dispatch_request()\n",
      "         ^^^^^^^^^^^^^^^^^^^^^^^\n",
      "  File \"C:\\Users\\henry\\anaconda3\\Lib\\site-packages\\flask\\app.py\", line 1796, in dispatch_request\n",
      "    return self.ensure_sync(self.view_functions[rule.endpoint])(**view_args)\n",
      "           ^^^^^^^^^^^^^^^^^^^^^^^^^^^^^^^^^^^^^^^^^^^^^^^^^^^^^^^^^^^^^^^^^\n",
      "  File \"C:\\Users\\henry\\AppData\\Local\\Temp\\ipykernel_7404\\3129394835.py\", line 22, in main\n",
      "    c.execute(\"insert into employee (name,timestamp)\",(name,timestamp))\n",
      "sqlite3.OperationalError: incomplete input\n",
      "127.0.0.1 - - [22/Mar/2024 20:12:22] \"POST /main HTTP/1.1\" 500 -\n",
      "127.0.0.1 - - [22/Mar/2024 20:12:26] \"POST /main HTTP/1.1\" 200 -\n",
      "127.0.0.1 - - [22/Mar/2024 20:12:30] \"POST /food_exp HTTP/1.1\" 200 -\n",
      "127.0.0.1 - - [22/Mar/2024 20:12:33] \"POST /prediction HTTP/1.1\" 200 -\n"
     ]
    },
    {
     "name": "stdout",
     "output_type": "stream",
     "text": [
      "prediction\n",
      "100.0\n"
     ]
    },
    {
     "name": "stderr",
     "output_type": "stream",
     "text": [
      "127.0.0.1 - - [22/Mar/2024 20:12:36] \"POST /end HTTP/1.1\" 200 -\n"
     ]
    }
   ],
   "source": [
    "from flask import Flask, request, render_template, Markup\n",
    "import datetime\n",
    "import sqlite3\n",
    "app = Flask(__name__)\n",
    "\n",
    "name_flag = 0\n",
    "name = \"\"\n",
    "\n",
    "@app.route(\"/\",methods=[\"GET\",\"POST\"])\n",
    "def index():\n",
    "    return(render_template(\"index.html\"))\n",
    "\n",
    "@app.route(\"/main\",methods=[\"GET\",\"POST\"])\n",
    "def main():\n",
    "    global name_flag,name\n",
    "    if name_flag == 0:\n",
    "        name = request.form.get(\"name\")\n",
    "        name_flag = 1\n",
    "        conn = sqlite3.connect(\"log.db\")\n",
    "        c = conn.cursor()\n",
    "        timestamp = datetime.datetime.now()\n",
    "        c.execute(\"insert into employee (name,timestamp)\",(name,timestamp))\n",
    "        conn.commit()\n",
    "        c.close()\n",
    "        conn.close()\n",
    "    return(render_template(\"main.html\",name=name))\n",
    "\n",
    "@app.route(\"/ethical_test\",methods=[\"GET\",\"POST\"])\n",
    "def ethical_test():\n",
    "    return(render_template(\"ethical_test.html\"))\n",
    "\n",
    "@app.route(\"/query\",methods=[\"GET\",\"POST\"])\n",
    "def query():\n",
    "    conn = sqlite3.connect(\"log.db\")\n",
    "    c = conn.execute(\"select * from employee\")\n",
    "    r = \"\"\n",
    "    for row in c:\n",
    "        r= r+str(row)+\"<br>\"\n",
    "    print(r)\n",
    "    r = Markup(r)\n",
    "    c.close()\n",
    "    conn.close()\n",
    "    return(render_template(\"query.html\",r=r))\n",
    "\n",
    "@app.route(\"/delete\",methods=[\"GET\",\"POST\"])\n",
    "def delete():\n",
    "    conn = sqlite3.connect(\"log.db\")\n",
    "    c = conn.cursor()\n",
    "    c.execute(\"delete from employee;\")\n",
    "    conn.commit()\n",
    "    c.close()\n",
    "    conn.close()\n",
    "    return(render_template(\"delete.html\"))\n",
    "\n",
    "@app.route(\"/answer\",methods=[\"GET\",\"POST\"])\n",
    "def answer():\n",
    "    ans = request.form[\"options\"]\n",
    "    print(ans)\n",
    "    if ans == 'true':\n",
    "        return(render_template(\"wrong.html\"))\n",
    "    else:\n",
    "        return(render_template(\"correct.html\"))\n",
    "    \n",
    "@app.route(\"/food_exp\",methods=[\"GET\",\"POST\"])\n",
    "def food_exp():\n",
    "    return(render_template(\"food_exp.html\"))\n",
    "\n",
    "@app.route(\"/prediction\",methods=[\"GET\",\"POST\"])\n",
    "def prediction():\n",
    "    print(\"prediction\")\n",
    "    income = float(request.form.get(\"income\"))\n",
    "    print(income)\n",
    "    return(render_template(\"prediction.html\", r=(income * 0.485)+147))\n",
    "\n",
    "@app.route(\"/end\",methods=[\"GET\",\"POST\"]) \n",
    "def end():\n",
    "    return(render_template(\"end.html\"))\n",
    "\n",
    "if __name__ == \"__main__\":\n",
    "    app.run(port=7171)"
   ]
  },
  {
   "cell_type": "code",
   "execution_count": null,
   "id": "4e356a75",
   "metadata": {},
   "outputs": [],
   "source": []
  },
  {
   "cell_type": "code",
   "execution_count": null,
   "id": "9a935719",
   "metadata": {},
   "outputs": [],
   "source": []
  },
  {
   "cell_type": "code",
   "execution_count": null,
   "id": "8d6dde05",
   "metadata": {},
   "outputs": [],
   "source": []
  }
 ],
 "metadata": {
  "kernelspec": {
   "display_name": "Python 3 (ipykernel)",
   "language": "python",
   "name": "python3"
  },
  "language_info": {
   "codemirror_mode": {
    "name": "ipython",
    "version": 3
   },
   "file_extension": ".py",
   "mimetype": "text/x-python",
   "name": "python",
   "nbconvert_exporter": "python",
   "pygments_lexer": "ipython3",
   "version": "3.11.4"
  }
 },
 "nbformat": 4,
 "nbformat_minor": 5
}
